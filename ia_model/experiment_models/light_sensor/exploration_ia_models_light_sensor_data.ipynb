{
 "cells": [
  {
   "cell_type": "markdown",
   "id": "e3fae3f5",
   "metadata": {},
   "source": [
    "## Exploration IA models for Luminosity Sensor\n",
    "\n",
    "<b>Goals</b>:\n",
    "<ol>\n",
    "<li>Explorer (xboost, ts forecasting, etc) approaches of machine learning</li>\n",
    "<li>Analysis Results and Explicability of models</li>\n",
    "</ol>\n",
    "\n",
    "\n",
    "\n",
    "<b>Rules</b>:\n",
    "<ul>\n",
    "<li>Sensor Ready for two sequence values, when abs(value_0 - value_1) > 2 - Risk Class</li>\n",
    "<li>Else is Normal Class</li>\n",
    "</ul>\n",
    "\n",
    "\n",
    "<b>Referencess</b>:\n",
    "<ul>\n",
    "<li><a href=\"https://towardsdatascience.com/a-brief-introduction-to-time-series-classification-algorithms-7b4284d31b97\">A Brief Survey of Time Series Classification Algorithms</a></li>\n",
    "<li><a href=\"https://mpatiparn-n.medium.com/xgboost-time-series-forcasting-with-sktime-ep-2-5a5525d902ab\">Xgboost time series forcasting with sktime [ep#2]</a></li>\n",
    "<li><a href=\"https://medium.com/@sandha.iitr/xgboost-for-time-series-extrapolation-an-approach-in-python-17f69b079518\">XGBoost para extrapolação de séries temporais: uma abordagem em Python</a></li>\n",
    "<li><a href=\"https://towardsdatascience.com/xgboost-for-time-series-youre-gonna-need-a-bigger-boat-9d329efa6814\">XGBoost for Time Series extrapolation: You’re Gonna Need a Bigger Boat</a></li>\n",
    "<li><a href=\"https://github.com/sktime/sktime/blob/main/examples/02_classification.ipynb\">Time Series Classification with sktime</a></li>\n",
    "<li><a href=\"https://www.sktime.net/en/latest/api_reference/auto_generated/sktime.classification.compose.ClassifierPipeline.html\">ClassifierPipeline</a></li>\n",
    "<li><a href=\"https://towardsdatascience.com/anomaly-detection-in-time-series-sensor-data-86fd52e62538\">Anomaly Detection in Time Series Sensor Data</a></li>\n",
    "<li><a href=\"https://www.kaggle.com/code?searchQuery=time+series\">Kaggle - Time Series Explorations</a></li>\n",
    "<li><a href=\"https://towardsdatascience.com/hands-on-climate-time-series-classification-with-deep-learning-using-python-6d5de81004c9\">Hands-On Climate Time Series Classification with Deep Learning, using Python</a></li>\n",
    "</ul>"
   ]
  },
  {
   "cell_type": "markdown",
   "id": "501c6545",
   "metadata": {},
   "source": [
    "### 1.0 Explorer classical (statistics) and new (xboost, ts forecasting, etc) approaches of machine learning"
   ]
  },
  {
   "cell_type": "code",
   "execution_count": 3,
   "id": "8fe3824f",
   "metadata": {},
   "outputs": [
    {
     "name": "stdout",
     "output_type": "stream",
     "text": [
      "/home/vanessa/PycharmProjects/osh_ia\n"
     ]
    }
   ],
   "source": [
    "ROOT_PATH=%cd ..\n",
    "ROOT_PATH='/home/vanessa/PycharmProjects/osh_ia'"
   ]
  },
  {
   "cell_type": "code",
   "execution_count": 4,
   "id": "d56f31e0",
   "metadata": {},
   "outputs": [],
   "source": [
    "from ia_model.model_tests import ModelTests"
   ]
  },
  {
   "cell_type": "markdown",
   "id": "3476f497",
   "metadata": {},
   "source": [
    "#### 1.1 Build Models"
   ]
  },
  {
   "cell_type": "code",
   "execution_count": 5,
   "id": "bdc009f5",
   "metadata": {},
   "outputs": [],
   "source": [
    "m_tests = ModelTests('/home/vanessa/PycharmProjects/osh_ia/ia_model/datasets/light_sensor/light_only_value',\n",
    "                     '/home/vanessa/PycharmProjects/osh_ia/ia_model/experiment_models/light_sensor/metrics_models',\n",
    "                     _kfolds=10)"
   ]
  },
  {
   "cell_type": "code",
   "execution_count": null,
   "id": "f1eb07b4",
   "metadata": {},
   "outputs": [],
   "source": [
    "m_tests.build_model_tests()"
   ]
  }
 ],
 "metadata": {
  "kernelspec": {
   "display_name": "Python 3 (ipykernel)",
   "language": "python",
   "name": "python3"
  },
  "language_info": {
   "codemirror_mode": {
    "name": "ipython",
    "version": 3
   },
   "file_extension": ".py",
   "mimetype": "text/x-python",
   "name": "python",
   "nbconvert_exporter": "python",
   "pygments_lexer": "ipython3",
   "version": "3.8.13"
  }
 },
 "nbformat": 4,
 "nbformat_minor": 5
}
