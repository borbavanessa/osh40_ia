{
 "cells": [
  {
   "cell_type": "markdown",
   "id": "3e2e5411",
   "metadata": {},
   "source": [
    "## Exploration IA models for Dust Sensor\n",
    "\n",
    "<b>Goals</b>:\n",
    "<ol>\n",
    "<li>Explorer (xboost, ts forecasting, etc) approaches of machine learning</li>\n",
    "<li>Analysis Results and Explicability of models</li>\n",
    "</ol>\n",
    "\n",
    "\n",
    "\n",
    "<b>Rules</b>:\n",
    "<ul>\n",
    "<li>Sensor Ready between 0 and 999999 - Normal Class</li>\n",
    "<li>Else (between 1000000 and 28000000) is Risc Class</li>\n",
    "</ul>\n",
    "\n",
    "\n",
    "<b>Referencess</b>:\n",
    "<ul>\n",
    "<li><a href=\"https://towardsdatascience.com/a-brief-introduction-to-time-series-classification-algorithms-7b4284d31b97\">A Brief Survey of Time Series Classification Algorithms</a></li>\n",
    "<li><a href=\"https://mpatiparn-n.medium.com/xgboost-time-series-forcasting-with-sktime-ep-2-5a5525d902ab\">Xgboost time series forcasting with sktime [ep#2]</a></li>\n",
    "<li><a href=\"https://medium.com/@sandha.iitr/xgboost-for-time-series-extrapolation-an-approach-in-python-17f69b079518\">XGBoost para extrapolação de séries temporais: uma abordagem em Python</a></li>\n",
    "<li><a href=\"https://towardsdatascience.com/xgboost-for-time-series-youre-gonna-need-a-bigger-boat-9d329efa6814\">XGBoost for Time Series extrapolation: You’re Gonna Need a Bigger Boat</a></li>\n",
    "<li><a href=\"https://github.com/sktime/sktime/blob/main/examples/02_classification.ipynb\">Time Series Classification with sktime</a></li>\n",
    "<li><a href=\"https://www.sktime.net/en/latest/api_reference/auto_generated/sktime.classification.compose.ClassifierPipeline.html\">ClassifierPipeline</a></li>\n",
    "<li><a href=\"https://towardsdatascience.com/anomaly-detection-in-time-series-sensor-data-86fd52e62538\">Anomaly Detection in Time Series Sensor Data</a></li>\n",
    "<li><a href=\"https://www.kaggle.com/code?searchQuery=time+series\">Kaggle - Time Series Explorations</a></li>\n",
    "<li><a href=\"https://towardsdatascience.com/hands-on-climate-time-series-classification-with-deep-learning-using-python-6d5de81004c9\">Hands-On Climate Time Series Classification with Deep Learning, using Python</a></li>\n",
    "</ul>"
   ]
  },
  {
   "cell_type": "markdown",
   "id": "1a379d66",
   "metadata": {},
   "source": [
    "### 1.0 Explorer classical (statistics) and new (xboost, ts forecasting, etc) approaches of machine learning"
   ]
  },
  {
   "cell_type": "code",
   "execution_count": 3,
   "id": "48d1073a",
   "metadata": {},
   "outputs": [
    {
     "name": "stdout",
     "output_type": "stream",
     "text": [
      "/home/vanessa/PycharmProjects/osh_ia\n"
     ]
    }
   ],
   "source": [
    "ROOT_PATH=%cd ..\n",
    "#ROOT_PATH='/home/vanessa/PycharmProjects/osh_ia'"
   ]
  },
  {
   "cell_type": "code",
   "execution_count": 4,
   "id": "c7943dc8",
   "metadata": {},
   "outputs": [],
   "source": [
    "from ia_model.model_tests import ModelTests"
   ]
  },
  {
   "cell_type": "markdown",
   "id": "5e6f9e05",
   "metadata": {},
   "source": [
    "#### 1.1 Build Models"
   ]
  },
  {
   "cell_type": "code",
   "execution_count": 5,
   "id": "639a34a7",
   "metadata": {},
   "outputs": [],
   "source": [
    "m_tests = ModelTests('/home/vanessa/PycharmProjects/osh_ia/ia_model/datasets/dust_sensor/dust_only_value',\n",
    "                     '/home/vanessa/PycharmProjects/osh_ia/ia_model/experiment_models/dust_sensor/metrics_models',\n",
    "                     _kfolds=10)"
   ]
  },
  {
   "cell_type": "code",
   "execution_count": 6,
   "id": "fa617a21",
   "metadata": {},
   "outputs": [],
   "source": [
    "m_tests.build_model_tests()"
   ]
  },
  {
   "cell_type": "code",
   "execution_count": null,
   "id": "15f369ae",
   "metadata": {},
   "outputs": [],
   "source": []
  }
 ],
 "metadata": {
  "kernelspec": {
   "display_name": "Python 3 (ipykernel)",
   "language": "python",
   "name": "python3"
  },
  "language_info": {
   "codemirror_mode": {
    "name": "ipython",
    "version": 3
   },
   "file_extension": ".py",
   "mimetype": "text/x-python",
   "name": "python",
   "nbconvert_exporter": "python",
   "pygments_lexer": "ipython3",
   "version": "3.8.13"
  }
 },
 "nbformat": 4,
 "nbformat_minor": 5
}
